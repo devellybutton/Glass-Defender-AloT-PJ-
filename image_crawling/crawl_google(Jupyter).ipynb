{
 "cells": [
  {
   "cell_type": "code",
   "execution_count": null,
   "id": "8154d5b5-aa9f-42c1-ad16-024b71e2b4d4",
   "metadata": {},
   "outputs": [],
   "source": [
    "# Selenium 패키지 설치\n",
    "!pip install selenium"
   ]
  },
  {
   "cell_type": "code",
   "execution_count": 58,
   "id": "df6bb3de-7172-4e24-91aa-a9f16d9b6260",
   "metadata": {},
   "outputs": [],
   "source": [
    "# 필요한 라이브러리 가져오기\n",
    "from selenium import webdriver\n",
    "from time import sleep\n",
    "import random\n",
    "from selenium.webdriver.common.by import By\n",
    "import urllib.request"
   ]
  },
  {
   "cell_type": "code",
   "execution_count": null,
   "id": "19d34680-b5bf-480b-825f-cd8ce31a66dc",
   "metadata": {},
   "outputs": [],
   "source": [
    "# 크롬 웹드라이버 설정\n",
    "driver = webdriver.Chrome()  # 116 버전 이상의 크롬 웹브라우저"
   ]
  },
  {
   "cell_type": "code",
   "execution_count": 128,
   "id": "cf6d540c-473d-43db-86de-e60b694887a8",
   "metadata": {},
   "outputs": [],
   "source": [
    "# 구글 이미지 검색을 위한 URL 정의\n",
    "url = 'https://www.google.com/search?q=%EC%BB%B5&sca_esv=572078159&hl=ko&tbm=isch&source=lnms&sa=X&ved=2ahUKEwiR64ep9-qBAxULCIgKHaw-ArkQ_AUoAXoECAEQAw&biw=1036&bih=667&dpr=1.25'\n",
    "driver.get(url)"
   ]
  },
  {
   "cell_type": "code",
   "execution_count": null,
   "id": "c9d8ea50-777e-45ab-84e7-8b1826e518a3",
   "metadata": {},
   "outputs": [],
   "source": [
    "from selenium.webdriver.common.by import By\n",
    "\n",
    "# xp 변수에는 페이지에서 어떤 요소를 찾을지를 나타내는 XPath를 저장\n",
    "xp = '//*[@id=\"yDmH0d\"]/c-wiz[2]/div/div/div[2]/div[2]/div/div[1]/div[1]/c-wiz[4]/section/header/div/div[2]/button/i'\n",
    "\n",
    "# XPath를 사용하여 'html' 요소 찾기\n",
    "rb = driver.find_element(By.XPATH, 'html')\n",
    "\n",
    "# CSS 선택자를 사용하여 요소 찾기\n",
    "# rb = driver.find_element(By.CSS_SELECTOR, 'i.google-material.icons.VfPpkd-kBDsod W7A5Qb')\n",
    "\n",
    "# rb 변수에 저장된 'html' 요소를 클릭\n",
    "rb.click()"
   ]
  },
  {
   "cell_type": "code",
   "execution_count": 134,
   "id": "08564b16-d806-45f1-89eb-863ff5054606",
   "metadata": {},
   "outputs": [
    {
     "name": "stdout",
     "output_type": "stream",
     "text": [
      "0\n",
      "1\n",
      "2\n",
      "3\n"
     ]
    },
    {
     "ename": "KeyboardInterrupt",
     "evalue": "",
     "output_type": "error",
     "traceback": [
      "\u001b[1;31m---------------------------------------------------------------------------\u001b[0m",
      "\u001b[1;31mKeyboardInterrupt\u001b[0m                         Traceback (most recent call last)",
      "Cell \u001b[1;32mIn[134], line 9\u001b[0m\n\u001b[0;32m      7\u001b[0m \u001b[38;5;28mprint\u001b[39m(i)\n\u001b[0;32m      8\u001b[0m driver\u001b[38;5;241m.\u001b[39mexecute_script(\u001b[38;5;124m'\u001b[39m\u001b[38;5;124marguments[0].scrollTop = arguments[0].scrollHeight\u001b[39m\u001b[38;5;124m'\u001b[39m, review_box )\n\u001b[1;32m----> 9\u001b[0m \u001b[43msleep\u001b[49m\u001b[43m(\u001b[49m\u001b[43mrandom\u001b[49m\u001b[38;5;241;43m.\u001b[39;49m\u001b[43mrandint\u001b[49m\u001b[43m(\u001b[49m\u001b[38;5;241;43m2\u001b[39;49m\u001b[43m,\u001b[49m\u001b[43m \u001b[49m\u001b[38;5;241;43m3\u001b[39;49m\u001b[43m)\u001b[49m\u001b[43m)\u001b[49m \u001b[38;5;66;03m# 2~3초 쉬었다가 반복\u001b[39;00m\n",
      "\u001b[1;31mKeyboardInterrupt\u001b[0m: "
     ]
    }
   ],
   "source": [
    "from time import sleep\n",
    "import random\n",
    "\n",
    "# 구글 이미지 검색 페이지에서 스크롤을 내리기 위해 사용\n",
    "xp = '//*[@id=\"yDmH0d\"]/div[4]/div[2]/div/div/div/div/div[2]'\n",
    "review_box = driver.find_element(By.XPATH, 'html')\n",
    "\n",
    "# 5번 반복하여 스크롤 내림 (5번쯤 내리면 '더보기'가 뜸)\n",
    "for i in range(5):\n",
    "    print(i)  # 횟수 확인을 위해 임시로 넣음\n",
    "    driver.execute_script('arguments[0].scrollTop = arguments[0].scrollHeight', review_box )\n",
    "    sleep(random.randint(2, 3)) # 2~3초 쉬었다가 반복"
   ]
  },
  {
   "cell_type": "code",
   "execution_count": null,
   "id": "1f7f433c-5235-4cf9-8584-1683c14f9fd7",
   "metadata": {},
   "outputs": [],
   "source": [
    "# 웹 페이지에서 'img.rg_i' CSS 선택자와 일치하는 모든 이미지 요소를 찾음\n",
    "img_elements = driver.find_elements(By.CSS_SELECTOR, 'img.rg_i')\n",
    "\n",
    "# 이미지 요소들의 'src' 속성을 추출하여 리스트에 저장\n",
    "img_links = [elem.get_attribute('src') for elem in img_elements]"
   ]
  },
  {
   "cell_type": "code",
   "execution_count": null,
   "id": "9c2ded81-1b68-4700-83d0-8bbd46ec7c33",
   "metadata": {
    "scrolled": true
   },
   "outputs": [
    {
     "name": "stdout",
     "output_type": "stream",
     "text": [
      "24번째 사진 에러: expected string or bytes-like object\n",
      "25번째 사진 에러: expected string or bytes-like object\n",
      "26번째 사진 에러: expected string or bytes-like object\n",
      "27번째 사진 에러: expected string or bytes-like object\n",
      "28번째 사진 에러: expected string or bytes-like object\n",
      "29번째 사진 에러: expected string or bytes-like object\n",
      "30번째 사진 에러: expected string or bytes-like object\n",
      "31번째 사진 에러: expected string or bytes-like object\n",
      "32번째 사진 에러: expected string or bytes-like object\n",
      "33번째 사진 에러: expected string or bytes-like object\n",
      "34번째 사진 에러: expected string or bytes-like object\n",
      "35번째 사진 에러: expected string or bytes-like object\n",
      "36번째 사진 에러: expected string or bytes-like object\n",
      "37번째 사진 에러: expected string or bytes-like object\n",
      "38번째 사진 에러: expected string or bytes-like object\n",
      "39번째 사진 에러: expected string or bytes-like object\n",
      "40번째 사진 에러: expected string or bytes-like object\n",
      "41번째 사진 에러: expected string or bytes-like object\n",
      "42번째 사진 에러: expected string or bytes-like object\n",
      "43번째 사진 에러: expected string or bytes-like object\n",
      "44번째 사진 에러: expected string or bytes-like object\n",
      "45번째 사진 에러: expected string or bytes-like object\n",
      "46번째 사진 에러: expected string or bytes-like object\n",
      "47번째 사진 에러: expected string or bytes-like object\n"
     ]
    }
   ],
   "source": [
    "# 이미지 다운로드\n",
    "for i, link in enumerate(img_links):\n",
    "    try:\n",
    "        # 이미지 링크(link)를 사용하여 이미지를 다운로드하고, 지정된 경로에 저장\n",
    "        urllib.request.urlretrieve(link, f'C:\\\\Users\\\\user\\\\Desktop\\\\cups_5\\\\cup_{i}.jpg')\n",
    "    except Exception as e:\n",
    "         # 예외가 발생한 경우 해당 이미지의 인덱스와 에러 메시지를 출력\n",
    "        print(f'{i}번째 사진 에러: {e}')"
   ]
  }
 ],
 "metadata": {
  "kernelspec": {
   "display_name": "Python 3 (ipykernel)",
   "language": "python",
   "name": "python3"
  },
  "language_info": {
   "codemirror_mode": {
    "name": "ipython",
    "version": 3
   },
   "file_extension": ".py",
   "mimetype": "text/x-python",
   "name": "python",
   "nbconvert_exporter": "python",
   "pygments_lexer": "ipython3",
   "version": "3.9.10"
  }
 },
 "nbformat": 4,
 "nbformat_minor": 5
}
