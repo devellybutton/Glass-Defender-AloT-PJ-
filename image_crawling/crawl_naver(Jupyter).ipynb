{
 "cells": [
  {
   "cell_type": "code",
   "execution_count": null,
   "id": "8154d5b5-aa9f-42c1-ad16-024b71e2b4d4",
   "metadata": {},
   "outputs": [],
   "source": [
    "# Selenium 패키지 설치\n",
    "!pip install selenium"
   ]
  },
  {
   "cell_type": "code",
   "execution_count": 25,
   "id": "df6bb3de-7172-4e24-91aa-a9f16d9b6260",
   "metadata": {},
   "outputs": [],
   "source": [
    "# 필요한 라이브러리 가져오기\n",
    "from selenium import webdriver\n",
    "from time import sleep\n",
    "import random\n",
    "from selenium.webdriver.common.by import By\n",
    "import urllib.request"
   ]
  },
  {
   "cell_type": "code",
   "execution_count": 51,
   "id": "19d34680-b5bf-480b-825f-cd8ce31a66dc",
   "metadata": {},
   "outputs": [],
   "source": [
    "# 크롬 웹드라이버 설정\n",
    "driver = webdriver.Chrome() # 116 버전 이상의 크롬 웹브라우저"
   ]
  },
  {
   "cell_type": "code",
   "execution_count": 83,
   "id": "cf6d540c-473d-43db-86de-e60b694887a8",
   "metadata": {},
   "outputs": [],
   "source": [
    "# 네이버 이미지 검색을 위한 URL 정의\n",
    "url = 'https://search.naver.com/search.naver?where=image&sm=tab_jum&query=%EC%BB%B5'\n",
    "driver.get(url)"
   ]
  },
  {
   "cell_type": "code",
   "execution_count": 84,
   "id": "c9d8ea50-777e-45ab-84e7-8b1826e518a3",
   "metadata": {},
   "outputs": [],
   "source": [
    "from selenium.webdriver.common.by import By\n",
    "\n",
    "# xp 변수에는 페이지에서 어떤 요소를 찾을지를 나타내는 XPath를 저장\n",
    "xp = '//*[@id=\"main_pack\"]/section[2]/div/div[1]/div[1]/div[127]/div/div[1]/a/img'\n",
    "\n",
    "# XPath를 사용하여 'html' 요소 찾기\n",
    "ib = driver.find_element(By.XPATH, 'html')\n",
    "\n",
    "# ib 변수에 저장된 'html' 요소를 클릭\n",
    "ib.click()"
   ]
  },
  {
   "cell_type": "code",
   "execution_count": 85,
   "id": "08564b16-d806-45f1-89eb-863ff5054606",
   "metadata": {},
   "outputs": [
    {
     "name": "stdout",
     "output_type": "stream",
     "text": [
      "0\n",
      "1\n",
      "2\n",
      "3\n",
      "4\n",
      "5\n",
      "6\n",
      "7\n",
      "8\n",
      "9\n",
      "10\n"
     ]
    }
   ],
   "source": [
    "from time import sleep\n",
    "import random\n",
    "\n",
    "# 네이버 이미지 검색 페이지에서 스크롤을 내리기 위해 사용\n",
    "xp = '//*[@id=\"yDmH0d\"]/div[4]/div[2]/div/div/div/div/div[2]'\n",
    "img_box = driver.find_element(By.XPATH, 'html')\n",
    "\n",
    "# 11번 반복하여 스크롤 내림 (11번쯤 내리면 '더보기'가 뜸)\n",
    "for i in range(11):\n",
    "    print(i)  # 횟수 확인을 위해 임시로 넣음\n",
    "    driver.execute_script('arguments[0].scrollTop = arguments[0].scrollHeight', img_box )\n",
    "    sleep(random.randint(2, 3)) # 2~3초 쉬었다가 반복"
   ]
  },
  {
   "cell_type": "code",
   "execution_count": 87,
   "id": "1f7f433c-5235-4cf9-8584-1683c14f9fd7",
   "metadata": {},
   "outputs": [],
   "source": [
    "# 웹 페이지에서 'img._image._listImage' CSS 선택자와 일치하는 모든 이미지 요소를 찾음\n",
    "img_elements = driver.find_elements(By.CSS_SELECTOR, 'img._image._listImage')\n",
    "\n",
    "# 이미지 요소들의 'src' 속성을 추출하여 리스트에 저장\n",
    "img_links = []\n",
    "for elem in img_elements:\n",
    "    img_links.append(elem.get_attribute('src'))\n",
    "    # img_links = [elem.get_attribute('src') for elem in img_elements]"
   ]
  },
  {
   "cell_type": "code",
   "execution_count": 88,
   "id": "9c2ded81-1b68-4700-83d0-8bbd46ec7c33",
   "metadata": {},
   "outputs": [
    {
     "name": "stdout",
     "output_type": "stream",
     "text": [
      "https://search.pstatic.net/sunny/?src=https%3A%2F%2Fphoto3.enuri.info%2Fdata%2Fimages%2Fservice%2Fdnw%2Fmaster%2F110378000%2F110378822.jpg&type=a340\n",
      "https://search.pstatic.net/common/?src=http%3A%2F%2Fshop1.phinf.naver.net%2F20230728_218%2F1690543541111LlCeB_JPEG%2FB0C9BVR95B_image3.jpg&type=a340\n",
      "https://search.pstatic.net/common/?src=http%3A%2F%2Fshop1.phinf.naver.net%2F20230717_210%2F1689568582683XphgT_JPEG%2F20761611661324552_2114751588.jpg&type=a340\n",
      "https://search.pstatic.net/common/?src=http%3A%2F%2Fshop1.phinf.naver.net%2F20230303_91%2F16778309982972sUng_JPEG%2F1673918017076175_244862133.jpeg&type=a340\n",
      "https://search.pstatic.net/common/?src=http%3A%2F%2Fshop1.phinf.naver.net%2F20230513_221%2F1683982472079ghLhM_JPEG%2F9089100396444982_157878264.jpg&type=a340\n",
      "https://search.pstatic.net/sunny/?src=https%3A%2F%2Fimage.ohou.se%2Fi%2Fbucketplace-v2-development%2Fuploads%2Fproductions%2F168084135207239700.jpg%3Fgif%3D1%26w%3D720%26h%3D480%26c%3Dc&type=a340\n",
      "https://search.pstatic.net/common/?src=http%3A%2F%2Fshopping.phinf.naver.net%2Fmain_4108158%2F41081581185.20230709180946.jpg&type=a340\n",
      "https://search.pstatic.net/common/?src=http%3A%2F%2Fshopping.phinf.naver.net%2Fmain_3824932%2F38249328051.20230225215611.jpg&type=a340\n",
      "https://search.pstatic.net/common/?src=http%3A%2F%2Fshop1.phinf.naver.net%2F20230714_21%2F16893165291715QuPp_JPEG%2F15031522787166706_886518713.JPG&type=a340\n",
      "https://search.pstatic.net/common/?src=http%3A%2F%2Fshopping.phinf.naver.net%2Fmain_4251729%2F42517291586.20230908202312.jpg&type=a340\n",
      "data:image/gif;base64,R0lGODlhAQABAIAAAAAAAP///yH5BAEAAAAALAAAAAABAAEAAAIBRAA7\n",
      "data:image/gif;base64,R0lGODlhAQABAIAAAAAAAP///yH5BAEAAAAALAAAAAABAAEAAAIBRAA7\n",
      "data:image/gif;base64,R0lGODlhAQABAIAAAAAAAP///yH5BAEAAAAALAAAAAABAAEAAAIBRAA7\n",
      "data:image/gif;base64,R0lGODlhAQABAIAAAAAAAP///yH5BAEAAAAALAAAAAABAAEAAAIBRAA7\n",
      "data:image/gif;base64,R0lGODlhAQABAIAAAAAAAP///yH5BAEAAAAALAAAAAABAAEAAAIBRAA7\n",
      "data:image/gif;base64,R0lGODlhAQABAIAAAAAAAP///yH5BAEAAAAALAAAAAABAAEAAAIBRAA7\n",
      "data:image/gif;base64,R0lGODlhAQABAIAAAAAAAP///yH5BAEAAAAALAAAAAABAAEAAAIBRAA7\n",
      "data:image/gif;base64,R0lGODlhAQABAIAAAAAAAP///yH5BAEAAAAALAAAAAABAAEAAAIBRAA7\n",
      "data:image/gif;base64,R0lGODlhAQABAIAAAAAAAP///yH5BAEAAAAALAAAAAABAAEAAAIBRAA7\n",
      "data:image/gif;base64,R0lGODlhAQABAIAAAAAAAP///yH5BAEAAAAALAAAAAABAAEAAAIBRAA7\n",
      "data:image/gif;base64,R0lGODlhAQABAIAAAAAAAP///yH5BAEAAAAALAAAAAABAAEAAAIBRAA7\n",
      "data:image/gif;base64,R0lGODlhAQABAIAAAAAAAP///yH5BAEAAAAALAAAAAABAAEAAAIBRAA7\n",
      "data:image/gif;base64,R0lGODlhAQABAIAAAAAAAP///yH5BAEAAAAALAAAAAABAAEAAAIBRAA7\n",
      "data:image/gif;base64,R0lGODlhAQABAIAAAAAAAP///yH5BAEAAAAALAAAAAABAAEAAAIBRAA7\n",
      "data:image/gif;base64,R0lGODlhAQABAIAAAAAAAP///yH5BAEAAAAALAAAAAABAAEAAAIBRAA7\n",
      "data:image/gif;base64,R0lGODlhAQABAIAAAAAAAP///yH5BAEAAAAALAAAAAABAAEAAAIBRAA7\n",
      "data:image/gif;base64,R0lGODlhAQABAIAAAAAAAP///yH5BAEAAAAALAAAAAABAAEAAAIBRAA7\n",
      "data:image/gif;base64,R0lGODlhAQABAIAAAAAAAP///yH5BAEAAAAALAAAAAABAAEAAAIBRAA7\n",
      "data:image/gif;base64,R0lGODlhAQABAIAAAAAAAP///yH5BAEAAAAALAAAAAABAAEAAAIBRAA7\n",
      "data:image/gif;base64,R0lGODlhAQABAIAAAAAAAP///yH5BAEAAAAALAAAAAABAAEAAAIBRAA7\n",
      "data:image/gif;base64,R0lGODlhAQABAIAAAAAAAP///yH5BAEAAAAALAAAAAABAAEAAAIBRAA7\n",
      "data:image/gif;base64,R0lGODlhAQABAIAAAAAAAP///yH5BAEAAAAALAAAAAABAAEAAAIBRAA7\n",
      "data:image/gif;base64,R0lGODlhAQABAIAAAAAAAP///yH5BAEAAAAALAAAAAABAAEAAAIBRAA7\n",
      "data:image/gif;base64,R0lGODlhAQABAIAAAAAAAP///yH5BAEAAAAALAAAAAABAAEAAAIBRAA7\n",
      "data:image/gif;base64,R0lGODlhAQABAIAAAAAAAP///yH5BAEAAAAALAAAAAABAAEAAAIBRAA7\n",
      "data:image/gif;base64,R0lGODlhAQABAIAAAAAAAP///yH5BAEAAAAALAAAAAABAAEAAAIBRAA7\n",
      "data:image/gif;base64,R0lGODlhAQABAIAAAAAAAP///yH5BAEAAAAALAAAAAABAAEAAAIBRAA7\n",
      "data:image/gif;base64,R0lGODlhAQABAIAAAAAAAP///yH5BAEAAAAALAAAAAABAAEAAAIBRAA7\n",
      "data:image/gif;base64,R0lGODlhAQABAIAAAAAAAP///yH5BAEAAAAALAAAAAABAAEAAAIBRAA7\n",
      "data:image/gif;base64,R0lGODlhAQABAIAAAAAAAP///yH5BAEAAAAALAAAAAABAAEAAAIBRAA7\n",
      "data:image/gif;base64,R0lGODlhAQABAIAAAAAAAP///yH5BAEAAAAALAAAAAABAAEAAAIBRAA7\n",
      "data:image/gif;base64,R0lGODlhAQABAIAAAAAAAP///yH5BAEAAAAALAAAAAABAAEAAAIBRAA7\n",
      "data:image/gif;base64,R0lGODlhAQABAIAAAAAAAP///yH5BAEAAAAALAAAAAABAAEAAAIBRAA7\n",
      "data:image/gif;base64,R0lGODlhAQABAIAAAAAAAP///yH5BAEAAAAALAAAAAABAAEAAAIBRAA7\n",
      "data:image/gif;base64,R0lGODlhAQABAIAAAAAAAP///yH5BAEAAAAALAAAAAABAAEAAAIBRAA7\n",
      "data:image/gif;base64,R0lGODlhAQABAIAAAAAAAP///yH5BAEAAAAALAAAAAABAAEAAAIBRAA7\n",
      "data:image/gif;base64,R0lGODlhAQABAIAAAAAAAP///yH5BAEAAAAALAAAAAABAAEAAAIBRAA7\n",
      "data:image/gif;base64,R0lGODlhAQABAIAAAAAAAP///yH5BAEAAAAALAAAAAABAAEAAAIBRAA7\n"
     ]
    }
   ],
   "source": [
    "# 이미지 다운로드 (다운로드 시 폴더명 다르게)\n",
    "for i, link in enumerate(img_links):\n",
    "    print(link)  # 링크 확인용\n",
    "    try:\n",
    "        # 이미지 링크(link)를 사용하여 이미지를 다운로드하고, 지정된 경로에 저장\n",
    "        urllib.request.urlretrieve(link, f'C:\\\\Users\\\\user\\\\Desktop\\\\cups_4\\\\cup_{i}.jpg')\n",
    "    except Exception as e:\n",
    "        # 예외가 발생한 경우 해당 이미지의 인덱스와 에러 메시지를 출력\n",
    "        print(f'error{i}번째 사진: {e}')"
   ]
  }
 ],
 "metadata": {
  "kernelspec": {
   "display_name": "Python 3 (ipykernel)",
   "language": "python",
   "name": "python3"
  },
  "language_info": {
   "codemirror_mode": {
    "name": "ipython",
    "version": 3
   },
   "file_extension": ".py",
   "mimetype": "text/x-python",
   "name": "python",
   "nbconvert_exporter": "python",
   "pygments_lexer": "ipython3",
   "version": "3.9.10"
  }
 },
 "nbformat": 4,
 "nbformat_minor": 5
}
